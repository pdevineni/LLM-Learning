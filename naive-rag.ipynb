{
 "cells": [
  {
   "cell_type": "code",
   "execution_count": null,
   "metadata": {},
   "outputs": [],
   "source": [
    "#### Setup virtual environment\n",
    "\n",
    "!python3 -m venv rag\n",
    "!source rag/bin/activate\n",
    "\n",
    "##### Install dependencies\n",
    "\n",
    "!pip install -r requirements.txt"
   ]
  },
  {
   "cell_type": "code",
   "execution_count": 10,
   "metadata": {},
   "outputs": [
    {
     "name": "stdout",
     "output_type": "stream",
     "text": [
      "The document is about the author's personal journey and experiences with writing and programming, starting from his early days working on short stories and programming on an IBM 1401 in 9th grade, to transitioning to microcomputers, and eventually delving into the field of artificial intelligence. It also touches on his college experience studying philosophy before switching to AI, influenced by works like Heinlein's \"The Moon is a Harsh Mistress\" and experiences with early computer technology.\n"
     ]
    }
   ],
   "source": [
    "from llama_index.core import VectorStoreIndex, SimpleDirectoryReader\n",
    "from llama_index.core.node_parser import SentenceSplitter\n",
    "\n",
    "# data:folder name\n",
    "documents = SimpleDirectoryReader(input_files=[\"data/paul_graham_essay.txt\"]).load_data()\n",
    "# parse documents into nodes\n",
    "parser = SentenceSplitter()\n",
    "nodes = parser.get_nodes_from_documents(documents)\n",
    "# creates index\n",
    "index = VectorStoreIndex.from_documents(documents)\n",
    "# creates a query engine\n",
    "query_engine = index.as_query_engine()\n",
    "# ask questions about your documents\n",
    "response = query_engine.query(\"What is the document about?\")\n",
    "print (response)"
   ]
  },
  {
   "cell_type": "markdown",
   "metadata": {},
   "source": [
    "References: \n",
    "1. https://docs.llamaindex.ai/en/latest/optimizing/building_rag_from_scratch.html\n",
    "2. https://medium.com/@abul.aala.fareh/customizing-documents-in-llamaindex-357de97d3917"
   ]
  },
  {
   "cell_type": "markdown",
   "metadata": {},
   "source": []
  }
 ],
 "metadata": {
  "kernelspec": {
   "display_name": "Python 3",
   "language": "python",
   "name": "python3"
  },
  "language_info": {
   "codemirror_mode": {
    "name": "ipython",
    "version": 3
   },
   "file_extension": ".py",
   "mimetype": "text/x-python",
   "name": "python",
   "nbconvert_exporter": "python",
   "pygments_lexer": "ipython3",
   "version": "3.11.8"
  }
 },
 "nbformat": 4,
 "nbformat_minor": 2
}
